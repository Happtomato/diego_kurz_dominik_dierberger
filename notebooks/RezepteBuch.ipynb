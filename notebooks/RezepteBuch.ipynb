{
 "cells": [
  {
   "metadata": {
    "ExecuteTime": {
     "end_time": "2025-05-05T08:26:45.423041Z",
     "start_time": "2025-05-05T08:26:45.416060Z"
    }
   },
   "cell_type": "code",
   "source": [
    "import json\n",
    "from datetime import datetime\n",
    "import os\n",
    "from IPython.display import Markdown, display\n",
    "\n",
    "SAVE_FILE = \"saved_recipes.json\"\n",
    "\n",
    "def load_recipes():\n",
    "    if not os.path.exists(SAVE_FILE):\n",
    "        print(\"❌ Noch keine Rezepte gespeichert.\")\n",
    "        return []\n",
    "\n",
    "    with open(SAVE_FILE, \"r\", encoding=\"utf-8\") as f:\n",
    "        try:\n",
    "            data = json.load(f)\n",
    "            return sorted(data, key=lambda x: x[\"timestamp\"], reverse=True)\n",
    "        except json.JSONDecodeError:\n",
    "            print(\"❌ Fehler beim Laden der Datei.\")\n",
    "            return []\n",
    "\n",
    "def show_recipes(data):\n",
    "    for i, entry in enumerate(data):\n",
    "        timestamp = datetime.fromisoformat(entry[\"timestamp\"]).strftime(\"%d.%m.%Y %H:%M\")\n",
    "        ingredients = \", \".join(entry[\"ingredients\"])\n",
    "        recipes = entry[\"recipes\"]\n",
    "\n",
    "        display(Markdown(f\"\"\"\n",
    "---\n",
    "### 🍽️ Rezept {i+1}\n",
    "**Gespeichert am:** {timestamp}\n",
    "**Zutaten:** {ingredients}\n",
    "\n",
    "**Vorschläge:**\n",
    "{recipes}\n",
    "\"\"\"))\n",
    "\n",
    "# Aufruf\n",
    "data = load_recipes()\n",
    "if data:\n",
    "    show_recipes(data)"
   ],
   "id": "cb5dd22a8af24e7",
   "outputs": [
    {
     "name": "stdout",
     "output_type": "stream",
     "text": [
      "❌ Noch keine Rezepte gespeichert.\n"
     ]
    }
   ],
   "execution_count": 1
  }
 ],
 "metadata": {
  "kernelspec": {
   "name": "python3",
   "language": "python",
   "display_name": "Python 3 (ipykernel)"
  }
 },
 "nbformat": 5,
 "nbformat_minor": 9
}
