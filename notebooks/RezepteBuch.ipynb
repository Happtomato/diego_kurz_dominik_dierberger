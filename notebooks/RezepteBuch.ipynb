{
 "cells": [
  {
   "metadata": {
    "ExecuteTime": {
     "end_time": "2025-05-08T06:57:37.506711Z",
     "start_time": "2025-05-08T06:57:37.498664Z"
    }
   },
   "cell_type": "code",
   "source": [
    "import json\n",
    "from datetime import datetime\n",
    "import os\n",
    "from IPython.display import Markdown, display\n",
    "\n",
    "SAVE_FILE = \"../data/saved_recipes.json\"\n",
    "\n",
    "def load_recipes():\n",
    "    if not os.path.exists(SAVE_FILE):\n",
    "        print(\"❌ Noch keine Rezepte gespeichert.\")\n",
    "        return []\n",
    "\n",
    "    with open(SAVE_FILE, \"r\", encoding=\"utf-8\") as f:\n",
    "        try:\n",
    "            data = json.load(f)\n",
    "            return sorted(data, key=lambda x: x[\"timestamp\"], reverse=True)\n",
    "        except json.JSONDecodeError:\n",
    "            print(\"❌ Fehler beim Laden der Datei.\")\n",
    "            return []\n",
    "\n",
    "def show_recipes(data):\n",
    "    for i, entry in enumerate(data):\n",
    "        timestamp = datetime.fromisoformat(entry[\"timestamp\"]).strftime(\"%d.%m.%Y %H:%M\")\n",
    "        ingredients = \", \".join(entry[\"ingredients\"])\n",
    "        recipes = entry[\"recipes\"]\n",
    "\n",
    "        recipe_markdown = \"\"\n",
    "        for key, recipe in recipes.items():\n",
    "            recipe_markdown += f\"\"\"\n",
    "#### 📝 {recipe['name']}\n",
    "\n",
    "**Zutaten:** {\", \".join(recipe['ingredients'])}\n",
    "\n",
    "**Anleitung:**\n",
    "\"\"\"\n",
    "            for idx, step in enumerate(recipe['instructions'], start=1):\n",
    "                recipe_markdown += f\"{idx}. {step}\\n\"\n",
    "\n",
    "        display(Markdown(f\"\"\"\n",
    "---\n",
    "### 🍽️ Rezepte {i+1}\n",
    "**Gespeichert am:** {timestamp}\n",
    "**Gesamtzutaten:** {ingredients}\n",
    "\n",
    "{recipe_markdown}\n",
    "\"\"\"))\n",
    "\n",
    "# Aufruf\n",
    "data = load_recipes()\n",
    "if data:\n",
    "    show_recipes(data)"
   ],
   "id": "19679e7b997adc25",
   "outputs": [
    {
     "data": {
      "text/plain": [
       "<IPython.core.display.Markdown object>"
      ],
      "text/markdown": "\n---\n### 🍽️ Rezepte 1\n**Gespeichert am:** 08.05.2025 08:57\n**Gesamtzutaten:** nutella, brot, speck, ei\n\n\n#### 📝 Nutella French Toast mit Speck\n\n**Zutaten:** Nutella, Brot, Ei, Speck, Butter\n\n**Anleitung:**\n1. Den Speck in einer Pfanne knusprig braten, dann warm halten.\n2. Nutella großzügig auf eine Seite einer Scheibe Brot streichen.\n3. Eine zweite Scheibe Brot darauflegen und leicht andrücken.\n4. Das Ei in einer Schüssel verquirlen.\n5. Das Nutella-Sandwich in das verquirlte Ei tauchen, sodass beide Seiten gut bedeckt sind.\n6. Butter in einer Pfanne erhitzen und das Sandwich von beiden Seiten goldbraun und knusprig braten.\n7. Mit dem gebratenen Speck als Beilage servieren.\n\n#### 📝 Speck-Ei-Brot Sandwich\n\n**Zutaten:** Brot, Ei, Speck, Butter\n\n**Anleitung:**\n1. Speck in einer Pfanne knusprig braten, dann beiseite legen.\n2. In derselben Pfanne ein Ei als Spiegelei braten.\n3. Zwei Scheiben Brot in der Pfanne anrösten, bei Bedarf etwas Butter hinzufügen.\n4. Auf einer Scheibe Brot das Spiegelei und den Speck platzieren.\n5. Mit der anderen Brotscheibe abdecken.\n6. Das Sandwich diagonal halbieren und warm servieren.\n\n#### 📝 Nutella Frühstückswrap mit Speck und Ei\n\n**Zutaten:** Nutella, Brot, Ei, Speck\n\n**Anleitung:**\n1. Speck knusprig braten und aus der Pfanne nehmen.\n2. Ein Ei in der Pfanne braten, bis es gut durch ist.\n3. Eine Scheibe Brot flach ausrollen, um dünn einen Wrap zu simulieren.\n4. Nutella auf das Brot streichen.\n5. Ei und Speck auf die Nutella-Schicht legen.\n6. Das Brot vorsichtig aufrollen oder falten.\n7. In der Mitte halbieren und servieren.\n\n"
     },
     "metadata": {},
     "output_type": "display_data"
    },
    {
     "data": {
      "text/plain": [
       "<IPython.core.display.Markdown object>"
      ],
      "text/markdown": "\n---\n### 🍽️ Rezepte 2\n**Gespeichert am:** 07.05.2025 10:44\n**Gesamtzutaten:** ei, mayo, avocado\n\n\n#### 📝 Avocado-Ei-Salat\n\n**Zutaten:** Ei, Mayo, Avocado, Salz, Pfeffer, Zitrone\n\n**Anleitung:**\n1. Die Eier in einem Topf mit Wasser zum Kochen bringen und etwa 10 Minuten hart kochen. Anschließend abschrecken und die Schale entfernen.\n2. Die gekochten Eier hacken und in eine Schüssel geben.\n3. Die Avocado halbieren, den Kern entfernen und das Fruchtfleisch mit einem Löffel herausnehmen.\n4. Die Avocado mit einer Gabel zerdrücken und zu den gehackten Eiern geben.\n5. Einen Esslöffel Mayonnaise hinzufügen und gut mischen.\n6. Mit Salz, Pfeffer und einem Spritzer Zitronensaft abschmecken.\n7. Den Salat in einer Schale servieren oder auf Brot als Aufstrich genießen.\n\n#### 📝 Gefüllte Avocado mit Ei\n\n**Zutaten:** Ei, Avocado, Mayo, Salz, Pfeffer, Chiliflocken\n\n**Anleitung:**\n1. Den Backofen auf 200 Grad Celsius vorheizen.\n2. Die Avocado halbieren und den Kern entfernen.\n3. Etwas Fruchtfleisch um das Loch herum entfernen, damit genügend Platz für ein Ei bleibt.\n4. Die Avocadohälften auf ein Backblech legen und jeweils ein Ei in die Mitte der Avocado geben.\n5. Die Avocado mit Salz, Pfeffer und Chiliflocken bestreuen.\n6. Im vorgeheizten Ofen etwa 10-15 Minuten backen, bis das Eiweiß gestockt ist.\n7. Mit einem Klecks Mayonnaise servieren und sofort genießen.\n\n#### 📝 Avocado-Mayo-Ei-Salat-Sandwich\n\n**Zutaten:** Ei, Avocado, Mayo, Vollkornbrot, Zitrone, Salz, Pfeffer\n\n**Anleitung:**\n1. Die Eier in einem Topf hart kochen lassen, etwa 10 Minuten. Dann abkühlen lassen, schälen und in Scheiben schneiden.\n2. Die Avocado halbieren, den Kern entfernen, das Fruchtfleisch herausschöpfen, in eine Schüssel geben und mit einer Gabel zerdrücken.\n3. Einen Teelöffel Zitronensaft und einen Esslöffel Mayonnaise zur Avocado geben und gut vermischen.\n4. Mit Salz und Pfeffer abschmecken.\n5. Eine Scheibe Vollkornbrot mit der Avocado-Mayonnaise-Mischung bestreichen.\n6. Eierscheiben darauf verteilen und mit einer weiteren Brotscheibe abdecken.\n7. Das Sandwich diagonal durchschneiden und servieren.\n\n"
     },
     "metadata": {},
     "output_type": "display_data"
    },
    {
     "data": {
      "text/plain": [
       "<IPython.core.display.Markdown object>"
      ],
      "text/markdown": "\n---\n### 🍽️ Rezepte 3\n**Gespeichert am:** 07.05.2025 10:26\n**Gesamtzutaten:** sahne, eier, pasta\n\n\n#### 📝 Cremige Eiernudeln\n\n**Zutaten:** Pasta, Eier, Sahne, Salz, Pfeffer, Knoblauch, Parmesan\n\n**Anleitung:**\n1. Die Pasta nach Packungsanweisung in einem Topf mit Salzwasser al dente kochen und abgießen.\n2. In einer Schüssel die Eier mit der Sahne, Salz, Pfeffer und gehacktem Knoblauch verquirlen.\n3. Die heiße Pasta zurück in den Topf geben und vom Herd nehmen.\n4. Die Eier-Sahne-Mischung über die heiße Pasta gießen und gut umrühren, sodass die Eier leicht stocken und eine cremige Sauce entsteht.\n5. Den geriebenen Parmesan hinzufügen und erneut umrühren.\n6. Warm servieren und nach Belieben mit frischen Kräutern garnieren.\n\n#### 📝 Pasta Frittata\n\n**Zutaten:** Pasta, Eier, Sahne, Salz, Pfeffer, Olivenöl, Zwiebel\n\n**Anleitung:**\n1. Die Pasta vom Vortag verwenden oder frisch kochen und abkühlen lassen.\n2. Die Eier in einer Schüssel mit Sahne, Salz und Pfeffer verquirlen.\n3. Eine Pfanne mit Olivenöl erhitzen und die gehackte Zwiebel darin anbraten, bis sie glasig ist.\n4. Die gekochte Pasta in die Pfanne hinzufügen und kurz durchrühren.\n5. Die Eiermischung darüber gießen und bei mittlerer Hitze stocken lassen.\n6. Wenn die Ränder fest werden, die Pfanne in den vorgeheizten Ofen schieben und bei 180 Grad Celsius ca. 10 Minuten backen, bis die Frittata komplett gestockt und leicht gebräunt ist.\n7. Warm oder kalt servieren.\n\n#### 📝 Sahne-Eierauflauf mit Pasta\n\n**Zutaten:** Pasta, Eier, Sahne, Salz, Pfeffer, Muskatnuss, Butter\n\n**Anleitung:**\n1. Die Pasta al dente kochen und abgießen.\n2. Den Backofen auf 180 Grad Celsius vorheizen.\n3. Eine Auflaufform mit Butter ausstreichen.\n4. In einer Schüssel die Eier mit der Sahne, Salz, Pfeffer und einer Prise Muskatnuss verquirlen.\n5. Die gekochte Pasta in die vorbereitete Auflaufform geben und die Eier-Sahne-Mischung darüber gießen.\n6. Eventuell nochmals mit Salz und Pfeffer abschmecken.\n7. Im Ofen ca. 20-25 Minuten backen, bis die Oberfläche goldbraun ist und der Auflauf durchgestockt ist.\n8. Heiß servieren.\n\n"
     },
     "metadata": {},
     "output_type": "display_data"
    }
   ],
   "execution_count": 1
  }
 ],
 "metadata": {
  "kernelspec": {
   "name": "python3",
   "language": "python",
   "display_name": "Python 3 (ipykernel)"
  }
 },
 "nbformat": 5,
 "nbformat_minor": 9
}
