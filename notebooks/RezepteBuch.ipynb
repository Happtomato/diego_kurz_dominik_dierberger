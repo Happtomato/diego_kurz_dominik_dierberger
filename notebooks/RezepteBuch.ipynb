{
 "cells": [
  {
   "metadata": {
    "ExecuteTime": {
     "end_time": "2025-05-12T06:46:15.158380Z",
     "start_time": "2025-05-12T06:46:15.148575Z"
    }
   },
   "cell_type": "code",
   "source": [
    "import json\n",
    "from datetime import datetime\n",
    "import os\n",
    "from IPython.display import Markdown, display\n",
    "\n",
    "SAVE_FILE = \"../data/saved_recipes.json\"\n",
    "\n",
    "def load_recipes():\n",
    "    if not os.path.exists(SAVE_FILE):\n",
    "        print(\"Noch keine Rezepte gespeichert.\")\n",
    "        return []\n",
    "\n",
    "    with open(SAVE_FILE, \"r\", encoding=\"utf-8\") as f:\n",
    "        try:\n",
    "            data = json.load(f)\n",
    "            return sorted(data, key=lambda x: x[\"timestamp\"], reverse=True)\n",
    "        except json.JSONDecodeError:\n",
    "            print(\"Fehler beim Laden der Datei.\")\n",
    "            return []\n",
    "\n",
    "def show_recipes(data):\n",
    "    for i, entry in enumerate(data):\n",
    "        timestamp = datetime.fromisoformat(entry[\"timestamp\"]).strftime(\"%d.%m.%Y %H:%M\")\n",
    "        ingredients = \", \".join(entry[\"ingredients\"])\n",
    "        recipes = entry[\"recipes\"]\n",
    "\n",
    "        recipe_markdown = \"\"\n",
    "        for key, recipe in recipes.items():\n",
    "            recipe_markdown += f\"\"\"\n",
    "#### 📝 {recipe['name']}\n",
    "\n",
    "**Zutaten:** {\", \".join(recipe['ingredients'])}\n",
    "\n",
    "**Anleitung:**\n",
    "\"\"\"\n",
    "            for idx, step in enumerate(recipe['instructions'], start=1):\n",
    "                recipe_markdown += f\"{idx}. {step}\\n\"\n",
    "\n",
    "        display(Markdown(f\"\"\"\n",
    "---\n",
    "### 🍽️ Rezepte {i+1}\n",
    "**Gespeichert am:** {timestamp}\n",
    "**Gesamtzutaten:** {ingredients}\n",
    "\n",
    "{recipe_markdown}\n",
    "\"\"\"))\n",
    "\n",
    "# Aufruf\n",
    "data = load_recipes()\n",
    "if data:\n",
    "    show_recipes(data)"
   ],
   "id": "19679e7b997adc25",
   "outputs": [
    {
     "name": "stdout",
     "output_type": "stream",
     "text": [
      "❌ Noch keine Rezepte gespeichert.\n"
     ]
    }
   ],
   "execution_count": 2
  }
 ],
 "metadata": {
  "kernelspec": {
   "name": "python3",
   "language": "python",
   "display_name": "Python 3 (ipykernel)"
  }
 },
 "nbformat": 5,
 "nbformat_minor": 9
}
