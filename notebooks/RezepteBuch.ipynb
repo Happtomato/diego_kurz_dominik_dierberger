{
 "cells": [
  {
   "metadata": {
    "ExecuteTime": {
     "end_time": "2025-05-12T08:54:04.741499Z",
     "start_time": "2025-05-12T08:54:04.734434Z"
    }
   },
   "cell_type": "code",
   "source": [
    "import json\n",
    "from datetime import datetime\n",
    "import os\n",
    "from IPython.display import Markdown, display\n",
    "\n",
    "SAVE_FILE = \"../data/saved_recipes.json\"\n",
    "\n",
    "def load_recipes():\n",
    "    if not os.path.exists(SAVE_FILE):\n",
    "        print(\"Noch keine Rezepte gespeichert.\")\n",
    "        return []\n",
    "\n",
    "    with open(SAVE_FILE, \"r\", encoding=\"utf-8\") as f:\n",
    "        try:\n",
    "            data = json.load(f)\n",
    "            return sorted(data, key=lambda x: x[\"timestamp\"], reverse=True)\n",
    "        except json.JSONDecodeError:\n",
    "            print(\"Fehler beim Laden der Datei.\")\n",
    "            return []\n",
    "\n",
    "def show_recipes(data):\n",
    "    for i, entry in enumerate(data):\n",
    "        timestamp = datetime.fromisoformat(entry[\"timestamp\"]).strftime(\"%d.%m.%Y %H:%M\")\n",
    "        ingredients = \", \".join(entry[\"ingredients\"])\n",
    "        recipes = entry[\"recipes\"]\n",
    "\n",
    "        recipe_markdown = \"\"\n",
    "        for key, recipe in recipes.items():\n",
    "            recipe_markdown += f\"\"\"\n",
    "#### 📝 {recipe['name']}\n",
    "\n",
    "**Zutaten:** {\", \".join(recipe['ingredients'])}\n",
    "\n",
    "**Anleitung:**\n",
    "\"\"\"\n",
    "            for idx, step in enumerate(recipe['instructions'], start=1):\n",
    "                recipe_markdown += f\"{idx}. {step}\\n\"\n",
    "\n",
    "        display(Markdown(f\"\"\"\n",
    "---\n",
    "### 🍽️ Rezepte {i+1}\n",
    "**Gespeichert am:** {timestamp}\n",
    "**Gesamtzutaten:** {ingredients}\n",
    "\n",
    "{recipe_markdown}\n",
    "\"\"\"))\n",
    "\n",
    "# Aufruf\n",
    "data = load_recipes()\n",
    "if data:\n",
    "    show_recipes(data)"
   ],
   "id": "19679e7b997adc25",
   "outputs": [
    {
     "data": {
      "text/plain": [
       "<IPython.core.display.Markdown object>"
      ],
      "text/markdown": "\n---\n### 🍽️ Rezepte 1\n**Gespeichert am:** 12.05.2025 10:53\n**Gesamtzutaten:** tomaten, eier, käse\n\n\n#### 📝 Tomaten-Käse Frittata\n\n**Zutaten:** Tomaten, Eier, Käse, Salz, Pfeffer, Öl\n\n**Anleitung:**\n1. Den Ofen auf 180 Grad Celsius vorheizen.\n2. Tomaten in dünne Scheiben schneiden und den Käse reiben.\n3. Eier in eine große Schüssel schlagen, mit Salz und Pfeffer würzen und gut verquirlen.\n4. Etwas Öl in eine ofenfeste Pfanne geben und die Tomatenscheiben anordnen.\n5. Die verquirlten Eier gleichmäßig über die Tomaten in der Pfanne gießen.\n6. Den geriebenen Käse darüberstreuen.\n7. Die Pfanne in den vorgeheizten Ofen stellen und ca. 15-20 Minuten backen, bis die Frittata aufgegangen und goldbraun ist.\n8. Aus dem Ofen nehmen und leicht abkühlen lassen, dann in Stücke schneiden und servieren.\n\n#### 📝 Tomaten-Käse Wraps\n\n**Zutaten:** Tomaten, Eier, Käse, Salz, Pfeffer, Tortilla-Wraps\n\n**Anleitung:**\n1. Die Tortilla-Wraps bereitstellen.\n2. Tomaten in Scheiben schneiden und Käse reiben.\n3. Eier in einer Schüssel aufschlagen, salzen und pfeffern und gut verquirlen.\n4. Eine Pfanne erhitzen und die Eiermasse hineingießen, um ein dünnes Omelett zu machen.\n5. Das Omelett aus der Pfanne nehmen und in Streifen schneiden.\n6. Auf jeden Tortilla-Wrap einige Tomatenscheiben, Käsestreusel und Omelettstreifen legen.\n7. Die Wraps aufrollen und in der heißen Pfanne von beiden Seiten kurz anrösten, bis der Käse schmilzt.\n8. In der Mitte durchschneiden und servieren.\n\n#### 📝 Tomaten-Käse Muffins\n\n**Zutaten:** Tomaten, Eier, Käse, Mehl, Backpulver, Salz, Pfeffer, Öl\n\n**Anleitung:**\n1. Den Ofen auf 180 Grad Celsius vorheizen und ein Muffinblech einfetten.\n2. Tomaten klein würfeln und Käse reiben.\n3. In einer Schüssel Mehl, Backpulver, Salz und Pfeffer vermischen.\n4. In einer anderen Schüssel Eier mit etwas Öl verquirlen.\n5. Die trockenen Zutaten mit den flüssigen Zutaten vermengen und die Tomatenwürfel und den geriebenen Käse unterheben.\n6. Den Teig gleichmäßig auf die Muffinförmchen verteilen.\n7. Im vorgeheizten Ofen ca. 20-25 Minuten backen, bis die Muffins aufgegangen und golden sind.\n8. Aus dem Ofen nehmen und vor dem Servieren etwas abkühlen lassen.\n\n"
     },
     "metadata": {},
     "output_type": "display_data"
    }
   ],
   "execution_count": 2
  }
 ],
 "metadata": {
  "kernelspec": {
   "name": "python3",
   "language": "python",
   "display_name": "Python 3 (ipykernel)"
  }
 },
 "nbformat": 5,
 "nbformat_minor": 9
}
